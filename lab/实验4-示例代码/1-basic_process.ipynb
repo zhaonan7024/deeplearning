{
 "cells": [
  {
   "cell_type": "markdown",
   "metadata": {},
   "source": [
    "# 基本数据处理\n",
    "\n",
    "## 简单处理\n",
    "\n",
    "- 使用固定长度的滑动窗口构造短序列\n",
    "- 划分训练集/验证集/测试集"
   ]
  },
  {
   "cell_type": "code",
   "execution_count": 1,
   "metadata": {},
   "outputs": [
    {
     "name": "stderr",
     "output_type": "stream",
     "text": [
      "C:\\Users\\loganlin\\Documents\\Code\\Python\\Class\\deeplearning2020\\dataset\\dataset.py:64: SettingWithCopyWarning: \n",
      "A value is trying to be set on a copy of a slice from a DataFrame.\n",
      "Try using .loc[row_indexer,col_indexer] = value instead\n",
      "\n",
      "See the caveats in the documentation: https://pandas.pydata.org/pandas-docs/stable/user_guide/indexing.html#returning-a-view-versus-a-copy\n",
      "  this_sensor['sensor_index'] = id2index[sensor_id]\n"
     ]
    }
   ],
   "source": [
    "import numpy as np\n",
    "\n",
    "from dataset.dataset import *\n",
    "\n",
    "dataset = KrakowDataset()\n",
    "raw_df = dataset.data.set_index(['sensor_index', 'UTC time'])"
   ]
  },
  {
   "cell_type": "markdown",
   "metadata": {},
   "source": [
    "下面是一段比较长的时间序列。"
   ]
  },
  {
   "cell_type": "code",
   "execution_count": 2,
   "metadata": {},
   "outputs": [
    {
     "data": {
      "text/plain": [
       "UTC time\n",
       "2017-01-01 00:00:00    0.264706\n",
       "2017-01-01 01:00:00    0.250000\n",
       "2017-01-01 02:00:00    0.250000\n",
       "2017-01-01 03:00:00    0.250000\n",
       "2017-01-01 04:00:00    0.250000\n",
       "                         ...   \n",
       "2017-01-31 19:00:00    0.294118\n",
       "2017-01-31 20:00:00    0.294118\n",
       "2017-01-31 21:00:00    0.279412\n",
       "2017-01-31 22:00:00    0.294118\n",
       "2017-01-31 23:00:00    0.279412\n",
       "Name: temperature, Length: 691, dtype: float64"
      ]
     },
     "execution_count": 2,
     "metadata": {},
     "output_type": "execute_result"
    }
   ],
   "source": [
    "long_seq = raw_df.loc[2, '2017-01']['temperature'].dropna()\n",
    "long_seq"
   ]
  },
  {
   "cell_type": "markdown",
   "metadata": {},
   "source": [
    "使用固定长度（如12）的滑动窗口，将其处理为几条短序列。"
   ]
  },
  {
   "cell_type": "code",
   "execution_count": 3,
   "metadata": {},
   "outputs": [
    {
     "name": "stdout",
     "output_type": "stream",
     "text": [
      "(680, 12)\n"
     ]
    }
   ],
   "source": [
    "window_size = 12\n",
    "short_seqs = []\n",
    "for i in range(long_seq.shape[0] - window_size + 1):\n",
    "    short_seqs.append(long_seq.iloc[i:i+window_size].tolist())\n",
    "short_seqs = np.array(short_seqs)\n",
    "print(short_seqs.shape)"
   ]
  },
  {
   "cell_type": "markdown",
   "metadata": {},
   "source": [
    "如果需要划分训练集/验证集/测试集，请首先对完整、有序的原始长序列按比例划分，再分别进行滑动窗口，而不是首先用滑动窗口生成多条短序列，再划分短序列。"
   ]
  },
  {
   "cell_type": "code",
   "execution_count": 4,
   "metadata": {},
   "outputs": [
    {
     "name": "stdout",
     "output_type": "stream",
     "text": [
      "(402, 12)\n"
     ]
    }
   ],
   "source": [
    "train_set_proportion, val_set_proportion = 0.6, 0.2\n",
    "total_len = long_seq.shape[0]\n",
    "train_val_split = int(total_len * train_set_proportion)\n",
    "val_test_split = int(total_len * (train_set_proportion + val_set_proportion))\n",
    "train_seq, val_seq, test_seq = long_seq[:train_val_split],\\\n",
    "                               long_seq[train_val_split:val_test_split],\\\n",
    "                               long_seq[val_test_split:]\n",
    "\n",
    "train_set = []\n",
    "for i in range(train_seq.shape[0] - window_size):\n",
    "    train_set.append(train_seq.iloc[i:i+window_size].tolist())\n",
    "train_set = np.array(train_set)\n",
    "print(train_set.shape)"
   ]
  },
  {
   "cell_type": "markdown",
   "metadata": {},
   "source": [
    "## 高级处理\n",
    "\n",
    "- 固定时间跨度的滑动窗口\n",
    "- 不等长序列的填充\n",
    "- 不等长序列的打包"
   ]
  },
  {
   "cell_type": "markdown",
   "metadata": {},
   "source": [
    "下面是一段长序列，然而，其时间轴并不规整，某些点之间空缺了几小时的数据。"
   ]
  },
  {
   "cell_type": "code",
   "execution_count": 5,
   "metadata": {},
   "outputs": [
    {
     "data": {
      "text/plain": [
       "UTC time\n",
       "2017-02-01 00:00:00    0.279412\n",
       "2017-02-01 01:00:00    0.294118\n",
       "2017-02-01 02:00:00    0.279412\n",
       "2017-02-01 03:00:00    0.279412\n",
       "2017-02-01 04:00:00    0.264706\n",
       "                         ...   \n",
       "2017-02-28 19:00:00    0.411765\n",
       "2017-02-28 20:00:00    0.426471\n",
       "2017-02-28 21:00:00    0.441176\n",
       "2017-02-28 22:00:00    0.455882\n",
       "2017-02-28 23:00:00    0.470588\n",
       "Name: temperature, Length: 663, dtype: float64"
      ]
     },
     "execution_count": 5,
     "metadata": {},
     "output_type": "execute_result"
    }
   ],
   "source": [
    "long_seq = raw_df.loc[2, '2017-02']['temperature'].dropna()\n",
    "long_seq"
   ]
  },
  {
   "cell_type": "markdown",
   "metadata": {},
   "source": [
    "### 填充与打包\n",
    "\n",
    "我们可以通过使用固定时间跨度的滑动窗口使得生成的序列更合理。一般来说，这需要借助pandas DataFrame带时间戳的index。"
   ]
  },
  {
   "cell_type": "code",
   "execution_count": 6,
   "metadata": {},
   "outputs": [],
   "source": [
    "window_size = 12  # (小时)\n",
    "short_seqs = []\n",
    "start_time, end_time = long_seq.index.min(), long_seq.index.max() - pd.Timedelta(window_size, 'h')\n",
    "cur_time = start_time\n",
    "while cur_time < end_time:\n",
    "    short_seqs.append(long_seq.loc[cur_time:cur_time + pd.Timedelta(window_size-1, 'h')].tolist())\n",
    "    cur_time += pd.Timedelta(1, 'h')"
   ]
  },
  {
   "cell_type": "markdown",
   "metadata": {},
   "source": [
    "然而这会导致序列的长度不一致，无法处理为Tensor。"
   ]
  },
  {
   "cell_type": "code",
   "execution_count": 7,
   "metadata": {},
   "outputs": [
    {
     "name": "stdout",
     "output_type": "stream",
     "text": [
      "Minimum length: 3\n",
      "Maximum length: 12\n"
     ]
    }
   ],
   "source": [
    "seq_lengths = [len(short_seq) for short_seq in short_seqs]\n",
    "print('Minimum length:', min(seq_lengths))\n",
    "print('Maximum length:', max(seq_lengths))"
   ]
  },
  {
   "cell_type": "markdown",
   "metadata": {},
   "source": [
    "首先使用python自带的itertools中的函数，填充序列，使得所有序列的长度等于最长的序列。"
   ]
  },
  {
   "cell_type": "code",
   "execution_count": 8,
   "metadata": {},
   "outputs": [
    {
     "data": {
      "text/plain": [
       "(659, 12)"
      ]
     },
     "execution_count": 8,
     "metadata": {},
     "output_type": "execute_result"
    }
   ],
   "source": [
    "from itertools import zip_longest\n",
    "\n",
    "padded_seqs = np.array(list(zip_longest(*short_seqs, fillvalue=0))).transpose()\n",
    "padded_seqs.shape"
   ]
  },
  {
   "cell_type": "markdown",
   "metadata": {},
   "source": [
    "在pytorch中使用时，可以使用函数将序列打包，使得pytorch能够合理地处理不等长的序列；即，被填充的部分不会实际输入到模型中。当然，这个函数需要手动输入每条序列的长度。"
   ]
  },
  {
   "cell_type": "code",
   "execution_count": 9,
   "metadata": {},
   "outputs": [],
   "source": [
    "import torch\n",
    "from torch.nn.utils.rnn import pack_padded_sequence\n",
    "\n",
    "# 此序列可以直接输入torch封装好的RNN、GRU和LSTM。\n",
    "packed_seqs = pack_padded_sequence(torch.tensor(padded_seqs), seq_lengths, \n",
    "                                   batch_first=True, enforce_sorted=False)"
   ]
  },
  {
   "cell_type": "markdown",
   "metadata": {},
   "source": [
    "### 序列重采样\n",
    "\n",
    "另一种方式是将原始长序列中缺失的时间戳补全。使用pandas的函数可以比较轻松实现这一功能。默认情况下，缺失的时间点会被填充nan。"
   ]
  },
  {
   "cell_type": "code",
   "execution_count": 10,
   "metadata": {},
   "outputs": [],
   "source": [
    "start_time, end_time = long_seq.index.min(), long_seq.index.max() - pd.Timedelta(window_size, 'h')\n",
    "full_index = pd.date_range(start_time, end_time, freq='h')\n",
    "reindex_seq = long_seq.reindex(full_index)"
   ]
  },
  {
   "cell_type": "markdown",
   "metadata": {},
   "source": [
    "随后我们可以使用插分函数，借助已有的数据，将空缺的数据补全。较常用的插分方法是线性插分。"
   ]
  },
  {
   "cell_type": "code",
   "execution_count": 11,
   "metadata": {},
   "outputs": [],
   "source": [
    "inter_seq = reindex_seq.interpolate(method='linear', axis=0, limit=2, limit_direction='both')"
   ]
  }
 ],
 "metadata": {
  "kernelspec": {
   "display_name": "Python 3",
   "language": "python",
   "name": "python3"
  },
  "language_info": {
   "codemirror_mode": {
    "name": "ipython",
    "version": 3
   },
   "file_extension": ".py",
   "mimetype": "text/x-python",
   "name": "python",
   "nbconvert_exporter": "python",
   "pygments_lexer": "ipython3",
   "version": "3.7.7"
  },
  "toc": {
   "base_numbering": 1.0,
   "nav_menu": {},
   "number_sections": true,
   "sideBar": true,
   "skip_h1_title": false,
   "title_cell": "Table of Contents",
   "title_sidebar": "Contents",
   "toc_cell": false,
   "toc_position": {
    "height": "calc(100% - 180px)",
    "left": "10px",
    "top": "150px",
    "width": "384px"
   },
   "toc_section_display": true,
   "toc_window_display": true
  },
  "varInspector": {
   "cols": {
    "lenName": 16.0,
    "lenType": 16.0,
    "lenVar": 40.0
   },
   "kernels_config": {
    "python": {
     "delete_cmd_postfix": "",
     "delete_cmd_prefix": "del ",
     "library": "var_list.py",
     "varRefreshCmd": "print(var_dic_list())"
    },
    "r": {
     "delete_cmd_postfix": ") ",
     "delete_cmd_prefix": "rm(",
     "library": "var_list.r",
     "varRefreshCmd": "cat(var_dic_list()) "
    }
   },
   "types_to_exclude": [
    "module",
    "function",
    "builtin_function_or_method",
    "instance",
    "_Feature"
   ],
   "window_display": false
  }
 },
 "nbformat": 4,
 "nbformat_minor": 2
}
